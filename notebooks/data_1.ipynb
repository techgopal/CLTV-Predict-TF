{
 "cells": [
  {
   "cell_type": "code",
   "execution_count": 4,
   "id": "scientific-disposal",
   "metadata": {},
   "outputs": [],
   "source": [
    "import tensorflow as tf\n",
    "import pandas as pd"
   ]
  },
  {
   "cell_type": "code",
   "execution_count": 41,
   "id": "disturbed-injury",
   "metadata": {},
   "outputs": [],
   "source": [
    "url = 'http://archive.ics.uci.edu/ml/machine-learning-databases/00352/Online%20Retail.xlsx'"
   ]
  },
  {
   "cell_type": "code",
   "execution_count": 61,
   "id": "uniform-quick",
   "metadata": {},
   "outputs": [],
   "source": [
    "df = pd.read_excel(url)"
   ]
  },
  {
   "cell_type": "code",
   "execution_count": 62,
   "id": "popular-classics",
   "metadata": {},
   "outputs": [
    {
     "data": {
      "text/html": [
       "<div>\n",
       "<style scoped>\n",
       "    .dataframe tbody tr th:only-of-type {\n",
       "        vertical-align: middle;\n",
       "    }\n",
       "\n",
       "    .dataframe tbody tr th {\n",
       "        vertical-align: top;\n",
       "    }\n",
       "\n",
       "    .dataframe thead th {\n",
       "        text-align: right;\n",
       "    }\n",
       "</style>\n",
       "<table border=\"1\" class=\"dataframe\">\n",
       "  <thead>\n",
       "    <tr style=\"text-align: right;\">\n",
       "      <th></th>\n",
       "      <th>InvoiceNo</th>\n",
       "      <th>StockCode</th>\n",
       "      <th>Description</th>\n",
       "      <th>Quantity</th>\n",
       "      <th>InvoiceDate</th>\n",
       "      <th>UnitPrice</th>\n",
       "      <th>CustomerID</th>\n",
       "      <th>Country</th>\n",
       "    </tr>\n",
       "  </thead>\n",
       "  <tbody>\n",
       "    <tr>\n",
       "      <th>0</th>\n",
       "      <td>536365</td>\n",
       "      <td>85123A</td>\n",
       "      <td>WHITE HANGING HEART T-LIGHT HOLDER</td>\n",
       "      <td>6</td>\n",
       "      <td>2010-12-01 08:26:00</td>\n",
       "      <td>2.55</td>\n",
       "      <td>17850.0</td>\n",
       "      <td>United Kingdom</td>\n",
       "    </tr>\n",
       "    <tr>\n",
       "      <th>1</th>\n",
       "      <td>536365</td>\n",
       "      <td>71053</td>\n",
       "      <td>WHITE METAL LANTERN</td>\n",
       "      <td>6</td>\n",
       "      <td>2010-12-01 08:26:00</td>\n",
       "      <td>3.39</td>\n",
       "      <td>17850.0</td>\n",
       "      <td>United Kingdom</td>\n",
       "    </tr>\n",
       "    <tr>\n",
       "      <th>2</th>\n",
       "      <td>536365</td>\n",
       "      <td>84406B</td>\n",
       "      <td>CREAM CUPID HEARTS COAT HANGER</td>\n",
       "      <td>8</td>\n",
       "      <td>2010-12-01 08:26:00</td>\n",
       "      <td>2.75</td>\n",
       "      <td>17850.0</td>\n",
       "      <td>United Kingdom</td>\n",
       "    </tr>\n",
       "    <tr>\n",
       "      <th>3</th>\n",
       "      <td>536365</td>\n",
       "      <td>84029G</td>\n",
       "      <td>KNITTED UNION FLAG HOT WATER BOTTLE</td>\n",
       "      <td>6</td>\n",
       "      <td>2010-12-01 08:26:00</td>\n",
       "      <td>3.39</td>\n",
       "      <td>17850.0</td>\n",
       "      <td>United Kingdom</td>\n",
       "    </tr>\n",
       "    <tr>\n",
       "      <th>4</th>\n",
       "      <td>536365</td>\n",
       "      <td>84029E</td>\n",
       "      <td>RED WOOLLY HOTTIE WHITE HEART.</td>\n",
       "      <td>6</td>\n",
       "      <td>2010-12-01 08:26:00</td>\n",
       "      <td>3.39</td>\n",
       "      <td>17850.0</td>\n",
       "      <td>United Kingdom</td>\n",
       "    </tr>\n",
       "  </tbody>\n",
       "</table>\n",
       "</div>"
      ],
      "text/plain": [
       "  InvoiceNo StockCode                          Description  Quantity  \\\n",
       "0    536365    85123A   WHITE HANGING HEART T-LIGHT HOLDER         6   \n",
       "1    536365     71053                  WHITE METAL LANTERN         6   \n",
       "2    536365    84406B       CREAM CUPID HEARTS COAT HANGER         8   \n",
       "3    536365    84029G  KNITTED UNION FLAG HOT WATER BOTTLE         6   \n",
       "4    536365    84029E       RED WOOLLY HOTTIE WHITE HEART.         6   \n",
       "\n",
       "          InvoiceDate  UnitPrice  CustomerID         Country  \n",
       "0 2010-12-01 08:26:00       2.55     17850.0  United Kingdom  \n",
       "1 2010-12-01 08:26:00       3.39     17850.0  United Kingdom  \n",
       "2 2010-12-01 08:26:00       2.75     17850.0  United Kingdom  \n",
       "3 2010-12-01 08:26:00       3.39     17850.0  United Kingdom  \n",
       "4 2010-12-01 08:26:00       3.39     17850.0  United Kingdom  "
      ]
     },
     "execution_count": 62,
     "metadata": {},
     "output_type": "execute_result"
    }
   ],
   "source": [
    "df.head()"
   ]
  },
  {
   "cell_type": "code",
   "execution_count": 64,
   "id": "heavy-tower",
   "metadata": {},
   "outputs": [
    {
     "name": "stdout",
     "output_type": "stream",
     "text": [
      "<class 'pandas.core.frame.DataFrame'>\n",
      "RangeIndex: 541909 entries, 0 to 541908\n",
      "Data columns (total 8 columns):\n",
      " #   Column       Non-Null Count   Dtype         \n",
      "---  ------       --------------   -----         \n",
      " 0   InvoiceNo    541909 non-null  object        \n",
      " 1   StockCode    541909 non-null  object        \n",
      " 2   Description  540455 non-null  object        \n",
      " 3   Quantity     541909 non-null  int64         \n",
      " 4   InvoiceDate  541909 non-null  datetime64[ns]\n",
      " 5   UnitPrice    541909 non-null  float64       \n",
      " 6   CustomerID   406829 non-null  float64       \n",
      " 7   Country      541909 non-null  object        \n",
      "dtypes: datetime64[ns](1), float64(2), int64(1), object(4)\n",
      "memory usage: 33.1+ MB\n"
     ]
    }
   ],
   "source": [
    "df.info()"
   ]
  },
  {
   "cell_type": "code",
   "execution_count": 67,
   "id": "musical-briefs",
   "metadata": {},
   "outputs": [
    {
     "data": {
      "text/plain": [
       "InvoiceNo           0\n",
       "StockCode           0\n",
       "Description      1454\n",
       "Quantity            0\n",
       "InvoiceDate         0\n",
       "UnitPrice           0\n",
       "CustomerID     135080\n",
       "Country             0\n",
       "dtype: int64"
      ]
     },
     "execution_count": 67,
     "metadata": {},
     "output_type": "execute_result"
    }
   ],
   "source": [
    "df.isnull().sum()"
   ]
  },
  {
   "cell_type": "code",
   "execution_count": 69,
   "id": "broad-store",
   "metadata": {},
   "outputs": [
    {
     "data": {
      "text/plain": [
       "4372"
      ]
     },
     "execution_count": 69,
     "metadata": {},
     "output_type": "execute_result"
    }
   ],
   "source": [
    "df['CustomerID'].nunique()"
   ]
  },
  {
   "cell_type": "code",
   "execution_count": 70,
   "id": "proof-installation",
   "metadata": {},
   "outputs": [
    {
     "data": {
      "text/plain": [
       "25900"
      ]
     },
     "execution_count": 70,
     "metadata": {},
     "output_type": "execute_result"
    }
   ],
   "source": [
    "df['InvoiceNo'].nunique()"
   ]
  },
  {
   "cell_type": "code",
   "execution_count": 71,
   "id": "ready-titanium",
   "metadata": {},
   "outputs": [
    {
     "data": {
      "text/plain": [
       "38"
      ]
     },
     "execution_count": 71,
     "metadata": {},
     "output_type": "execute_result"
    }
   ],
   "source": [
    "df['Country'].nunique()"
   ]
  },
  {
   "cell_type": "code",
   "execution_count": 78,
   "id": "unexpected-portal",
   "metadata": {},
   "outputs": [
    {
     "data": {
      "text/plain": [
       "Timestamp('2011-12-09 12:50:00')"
      ]
     },
     "execution_count": 78,
     "metadata": {},
     "output_type": "execute_result"
    }
   ],
   "source": [
    "df['InvoiceDate'].max()"
   ]
  },
  {
   "cell_type": "code",
   "execution_count": 79,
   "id": "smaller-chapter",
   "metadata": {},
   "outputs": [
    {
     "data": {
      "text/plain": [
       "Timestamp('2010-12-01 08:26:00')"
      ]
     },
     "execution_count": 79,
     "metadata": {},
     "output_type": "execute_result"
    }
   ],
   "source": [
    "df['InvoiceDate'].min()"
   ]
  },
  {
   "cell_type": "code",
   "execution_count": 72,
   "id": "crude-diamond",
   "metadata": {},
   "outputs": [
    {
     "data": {
      "text/html": [
       "<div>\n",
       "<style scoped>\n",
       "    .dataframe tbody tr th:only-of-type {\n",
       "        vertical-align: middle;\n",
       "    }\n",
       "\n",
       "    .dataframe tbody tr th {\n",
       "        vertical-align: top;\n",
       "    }\n",
       "\n",
       "    .dataframe thead th {\n",
       "        text-align: right;\n",
       "    }\n",
       "</style>\n",
       "<table border=\"1\" class=\"dataframe\">\n",
       "  <thead>\n",
       "    <tr style=\"text-align: right;\">\n",
       "      <th></th>\n",
       "      <th>InvoiceNo</th>\n",
       "      <th>StockCode</th>\n",
       "      <th>Description</th>\n",
       "      <th>Quantity</th>\n",
       "      <th>InvoiceDate</th>\n",
       "      <th>UnitPrice</th>\n",
       "      <th>CustomerID</th>\n",
       "      <th>Country</th>\n",
       "    </tr>\n",
       "  </thead>\n",
       "  <tbody>\n",
       "    <tr>\n",
       "      <th>299983</th>\n",
       "      <td>A563186</td>\n",
       "      <td>B</td>\n",
       "      <td>Adjust bad debt</td>\n",
       "      <td>1</td>\n",
       "      <td>2011-08-12 14:51:00</td>\n",
       "      <td>-11062.06</td>\n",
       "      <td>NaN</td>\n",
       "      <td>United Kingdom</td>\n",
       "    </tr>\n",
       "    <tr>\n",
       "      <th>299984</th>\n",
       "      <td>A563187</td>\n",
       "      <td>B</td>\n",
       "      <td>Adjust bad debt</td>\n",
       "      <td>1</td>\n",
       "      <td>2011-08-12 14:52:00</td>\n",
       "      <td>-11062.06</td>\n",
       "      <td>NaN</td>\n",
       "      <td>United Kingdom</td>\n",
       "    </tr>\n",
       "  </tbody>\n",
       "</table>\n",
       "</div>"
      ],
      "text/plain": [
       "       InvoiceNo StockCode      Description  Quantity         InvoiceDate  \\\n",
       "299983   A563186         B  Adjust bad debt         1 2011-08-12 14:51:00   \n",
       "299984   A563187         B  Adjust bad debt         1 2011-08-12 14:52:00   \n",
       "\n",
       "        UnitPrice  CustomerID         Country  \n",
       "299983  -11062.06         NaN  United Kingdom  \n",
       "299984  -11062.06         NaN  United Kingdom  "
      ]
     },
     "execution_count": 72,
     "metadata": {},
     "output_type": "execute_result"
    }
   ],
   "source": [
    "df[df['UnitPrice'] < 0]"
   ]
  },
  {
   "cell_type": "code",
   "execution_count": 73,
   "id": "played-tractor",
   "metadata": {},
   "outputs": [
    {
     "data": {
      "text/html": [
       "<div>\n",
       "<style scoped>\n",
       "    .dataframe tbody tr th:only-of-type {\n",
       "        vertical-align: middle;\n",
       "    }\n",
       "\n",
       "    .dataframe tbody tr th {\n",
       "        vertical-align: top;\n",
       "    }\n",
       "\n",
       "    .dataframe thead th {\n",
       "        text-align: right;\n",
       "    }\n",
       "</style>\n",
       "<table border=\"1\" class=\"dataframe\">\n",
       "  <thead>\n",
       "    <tr style=\"text-align: right;\">\n",
       "      <th></th>\n",
       "      <th>InvoiceNo</th>\n",
       "      <th>StockCode</th>\n",
       "      <th>Description</th>\n",
       "      <th>Quantity</th>\n",
       "      <th>InvoiceDate</th>\n",
       "      <th>UnitPrice</th>\n",
       "      <th>CustomerID</th>\n",
       "      <th>Country</th>\n",
       "    </tr>\n",
       "  </thead>\n",
       "  <tbody>\n",
       "    <tr>\n",
       "      <th>141</th>\n",
       "      <td>C536379</td>\n",
       "      <td>D</td>\n",
       "      <td>Discount</td>\n",
       "      <td>-1</td>\n",
       "      <td>2010-12-01 09:41:00</td>\n",
       "      <td>27.50</td>\n",
       "      <td>14527.0</td>\n",
       "      <td>United Kingdom</td>\n",
       "    </tr>\n",
       "    <tr>\n",
       "      <th>154</th>\n",
       "      <td>C536383</td>\n",
       "      <td>35004C</td>\n",
       "      <td>SET OF 3 COLOURED  FLYING DUCKS</td>\n",
       "      <td>-1</td>\n",
       "      <td>2010-12-01 09:49:00</td>\n",
       "      <td>4.65</td>\n",
       "      <td>15311.0</td>\n",
       "      <td>United Kingdom</td>\n",
       "    </tr>\n",
       "    <tr>\n",
       "      <th>235</th>\n",
       "      <td>C536391</td>\n",
       "      <td>22556</td>\n",
       "      <td>PLASTERS IN TIN CIRCUS PARADE</td>\n",
       "      <td>-12</td>\n",
       "      <td>2010-12-01 10:24:00</td>\n",
       "      <td>1.65</td>\n",
       "      <td>17548.0</td>\n",
       "      <td>United Kingdom</td>\n",
       "    </tr>\n",
       "    <tr>\n",
       "      <th>236</th>\n",
       "      <td>C536391</td>\n",
       "      <td>21984</td>\n",
       "      <td>PACK OF 12 PINK PAISLEY TISSUES</td>\n",
       "      <td>-24</td>\n",
       "      <td>2010-12-01 10:24:00</td>\n",
       "      <td>0.29</td>\n",
       "      <td>17548.0</td>\n",
       "      <td>United Kingdom</td>\n",
       "    </tr>\n",
       "    <tr>\n",
       "      <th>237</th>\n",
       "      <td>C536391</td>\n",
       "      <td>21983</td>\n",
       "      <td>PACK OF 12 BLUE PAISLEY TISSUES</td>\n",
       "      <td>-24</td>\n",
       "      <td>2010-12-01 10:24:00</td>\n",
       "      <td>0.29</td>\n",
       "      <td>17548.0</td>\n",
       "      <td>United Kingdom</td>\n",
       "    </tr>\n",
       "    <tr>\n",
       "      <th>...</th>\n",
       "      <td>...</td>\n",
       "      <td>...</td>\n",
       "      <td>...</td>\n",
       "      <td>...</td>\n",
       "      <td>...</td>\n",
       "      <td>...</td>\n",
       "      <td>...</td>\n",
       "      <td>...</td>\n",
       "    </tr>\n",
       "    <tr>\n",
       "      <th>540449</th>\n",
       "      <td>C581490</td>\n",
       "      <td>23144</td>\n",
       "      <td>ZINC T-LIGHT HOLDER STARS SMALL</td>\n",
       "      <td>-11</td>\n",
       "      <td>2011-12-09 09:57:00</td>\n",
       "      <td>0.83</td>\n",
       "      <td>14397.0</td>\n",
       "      <td>United Kingdom</td>\n",
       "    </tr>\n",
       "    <tr>\n",
       "      <th>541541</th>\n",
       "      <td>C581499</td>\n",
       "      <td>M</td>\n",
       "      <td>Manual</td>\n",
       "      <td>-1</td>\n",
       "      <td>2011-12-09 10:28:00</td>\n",
       "      <td>224.69</td>\n",
       "      <td>15498.0</td>\n",
       "      <td>United Kingdom</td>\n",
       "    </tr>\n",
       "    <tr>\n",
       "      <th>541715</th>\n",
       "      <td>C581568</td>\n",
       "      <td>21258</td>\n",
       "      <td>VICTORIAN SEWING BOX LARGE</td>\n",
       "      <td>-5</td>\n",
       "      <td>2011-12-09 11:57:00</td>\n",
       "      <td>10.95</td>\n",
       "      <td>15311.0</td>\n",
       "      <td>United Kingdom</td>\n",
       "    </tr>\n",
       "    <tr>\n",
       "      <th>541716</th>\n",
       "      <td>C581569</td>\n",
       "      <td>84978</td>\n",
       "      <td>HANGING HEART JAR T-LIGHT HOLDER</td>\n",
       "      <td>-1</td>\n",
       "      <td>2011-12-09 11:58:00</td>\n",
       "      <td>1.25</td>\n",
       "      <td>17315.0</td>\n",
       "      <td>United Kingdom</td>\n",
       "    </tr>\n",
       "    <tr>\n",
       "      <th>541717</th>\n",
       "      <td>C581569</td>\n",
       "      <td>20979</td>\n",
       "      <td>36 PENCILS TUBE RED RETROSPOT</td>\n",
       "      <td>-5</td>\n",
       "      <td>2011-12-09 11:58:00</td>\n",
       "      <td>1.25</td>\n",
       "      <td>17315.0</td>\n",
       "      <td>United Kingdom</td>\n",
       "    </tr>\n",
       "  </tbody>\n",
       "</table>\n",
       "<p>10624 rows × 8 columns</p>\n",
       "</div>"
      ],
      "text/plain": [
       "       InvoiceNo StockCode                       Description  Quantity  \\\n",
       "141      C536379         D                          Discount        -1   \n",
       "154      C536383    35004C   SET OF 3 COLOURED  FLYING DUCKS        -1   \n",
       "235      C536391     22556    PLASTERS IN TIN CIRCUS PARADE        -12   \n",
       "236      C536391     21984  PACK OF 12 PINK PAISLEY TISSUES        -24   \n",
       "237      C536391     21983  PACK OF 12 BLUE PAISLEY TISSUES        -24   \n",
       "...          ...       ...                               ...       ...   \n",
       "540449   C581490     23144   ZINC T-LIGHT HOLDER STARS SMALL       -11   \n",
       "541541   C581499         M                            Manual        -1   \n",
       "541715   C581568     21258        VICTORIAN SEWING BOX LARGE        -5   \n",
       "541716   C581569     84978  HANGING HEART JAR T-LIGHT HOLDER        -1   \n",
       "541717   C581569     20979     36 PENCILS TUBE RED RETROSPOT        -5   \n",
       "\n",
       "               InvoiceDate  UnitPrice  CustomerID         Country  \n",
       "141    2010-12-01 09:41:00      27.50     14527.0  United Kingdom  \n",
       "154    2010-12-01 09:49:00       4.65     15311.0  United Kingdom  \n",
       "235    2010-12-01 10:24:00       1.65     17548.0  United Kingdom  \n",
       "236    2010-12-01 10:24:00       0.29     17548.0  United Kingdom  \n",
       "237    2010-12-01 10:24:00       0.29     17548.0  United Kingdom  \n",
       "...                    ...        ...         ...             ...  \n",
       "540449 2011-12-09 09:57:00       0.83     14397.0  United Kingdom  \n",
       "541541 2011-12-09 10:28:00     224.69     15498.0  United Kingdom  \n",
       "541715 2011-12-09 11:57:00      10.95     15311.0  United Kingdom  \n",
       "541716 2011-12-09 11:58:00       1.25     17315.0  United Kingdom  \n",
       "541717 2011-12-09 11:58:00       1.25     17315.0  United Kingdom  \n",
       "\n",
       "[10624 rows x 8 columns]"
      ]
     },
     "execution_count": 73,
     "metadata": {},
     "output_type": "execute_result"
    }
   ],
   "source": [
    "df[df['Quantity']<0]"
   ]
  },
  {
   "cell_type": "raw",
   "id": "sealed-medicare",
   "metadata": {},
   "source": [
    "2. Data Cleaning "
   ]
  },
  {
   "cell_type": "raw",
   "id": "powerful-figure",
   "metadata": {},
   "source": [
    "Drop the null/na values entries. "
   ]
  },
  {
   "cell_type": "code",
   "execution_count": 93,
   "id": "changing-conviction",
   "metadata": {},
   "outputs": [],
   "source": [
    "cleaned_df = df.dropna()"
   ]
  },
  {
   "cell_type": "code",
   "execution_count": 94,
   "id": "turned-organ",
   "metadata": {},
   "outputs": [
    {
     "data": {
      "text/plain": [
       "(406829, 8)"
      ]
     },
     "execution_count": 94,
     "metadata": {},
     "output_type": "execute_result"
    }
   ],
   "source": [
    "cleaned_df.shape"
   ]
  },
  {
   "cell_type": "code",
   "execution_count": 95,
   "id": "italic-corner",
   "metadata": {},
   "outputs": [
    {
     "data": {
      "text/plain": [
       "0"
      ]
     },
     "execution_count": 95,
     "metadata": {},
     "output_type": "execute_result"
    }
   ],
   "source": [
    "cleaned_df['CustomerID'].isnull().sum()"
   ]
  },
  {
   "cell_type": "markdown",
   "id": "fabulous-savage",
   "metadata": {},
   "source": [
    "Remove data from last month"
   ]
  },
  {
   "cell_type": "code",
   "execution_count": 96,
   "id": "personal-jerusalem",
   "metadata": {},
   "outputs": [],
   "source": [
    "cleaned_df = cleaned_df.loc[cleaned_df['InvoiceDate'] < '2011-12-01']"
   ]
  },
  {
   "cell_type": "code",
   "execution_count": 97,
   "id": "macro-wedding",
   "metadata": {},
   "outputs": [
    {
     "data": {
      "text/plain": [
       "Timestamp('2011-11-30 17:42:00')"
      ]
     },
     "execution_count": 97,
     "metadata": {},
     "output_type": "execute_result"
    }
   ],
   "source": [
    "cleaned_df['InvoiceDate'].max()"
   ]
  },
  {
   "cell_type": "markdown",
   "id": "periodic-jungle",
   "metadata": {},
   "source": [
    "Remove Negative Unit"
   ]
  },
  {
   "cell_type": "code",
   "execution_count": 98,
   "id": "developmental-creature",
   "metadata": {},
   "outputs": [],
   "source": [
    "cleaned_df = cleaned_df[cleaned_df['UnitPrice'] > 0]"
   ]
  },
  {
   "cell_type": "code",
   "execution_count": 99,
   "id": "crucial-kingdom",
   "metadata": {},
   "outputs": [
    {
     "data": {
      "text/plain": [
       "(389128, 8)"
      ]
     },
     "execution_count": 99,
     "metadata": {},
     "output_type": "execute_result"
    }
   ],
   "source": [
    "cleaned_df.shape"
   ]
  },
  {
   "cell_type": "code",
   "execution_count": null,
   "id": "secure-probe",
   "metadata": {},
   "outputs": [],
   "source": [
    "Remove Negative Quantity"
   ]
  },
  {
   "cell_type": "code",
   "execution_count": 100,
   "id": "described-partner",
   "metadata": {},
   "outputs": [],
   "source": [
    "cleaned_df = cleaned_df[cleaned_df['Quantity'] > 0]"
   ]
  },
  {
   "cell_type": "code",
   "execution_count": 101,
   "id": "compact-attachment",
   "metadata": {},
   "outputs": [
    {
     "data": {
      "text/plain": [
       "(380580, 8)"
      ]
     },
     "execution_count": 101,
     "metadata": {},
     "output_type": "execute_result"
    }
   ],
   "source": [
    "cleaned_df.shape"
   ]
  },
  {
   "cell_type": "markdown",
   "id": "respected-cartoon",
   "metadata": {},
   "source": [
    "3. Data Transformation"
   ]
  },
  {
   "cell_type": "code",
   "execution_count": 121,
   "id": "precious-malta",
   "metadata": {},
   "outputs": [],
   "source": [
    "s = cleaned_df[cleaned_df['CustomerID'] ==17850]"
   ]
  },
  {
   "cell_type": "code",
   "execution_count": 124,
   "id": "organized-learning",
   "metadata": {},
   "outputs": [
    {
     "data": {
      "text/html": [
       "<div>\n",
       "<style scoped>\n",
       "    .dataframe tbody tr th:only-of-type {\n",
       "        vertical-align: middle;\n",
       "    }\n",
       "\n",
       "    .dataframe tbody tr th {\n",
       "        vertical-align: top;\n",
       "    }\n",
       "\n",
       "    .dataframe thead th {\n",
       "        text-align: right;\n",
       "    }\n",
       "</style>\n",
       "<table border=\"1\" class=\"dataframe\">\n",
       "  <thead>\n",
       "    <tr style=\"text-align: right;\">\n",
       "      <th></th>\n",
       "      <th>InvoiceNo</th>\n",
       "      <th>StockCode</th>\n",
       "      <th>Description</th>\n",
       "      <th>Quantity</th>\n",
       "      <th>InvoiceDate</th>\n",
       "      <th>UnitPrice</th>\n",
       "      <th>CustomerID</th>\n",
       "      <th>Country</th>\n",
       "      <th>Sales</th>\n",
       "    </tr>\n",
       "  </thead>\n",
       "  <tbody>\n",
       "    <tr>\n",
       "      <th>0</th>\n",
       "      <td>536365</td>\n",
       "      <td>85123A</td>\n",
       "      <td>WHITE HANGING HEART T-LIGHT HOLDER</td>\n",
       "      <td>6</td>\n",
       "      <td>2010-12-01 08:26:00</td>\n",
       "      <td>2.55</td>\n",
       "      <td>17850.0</td>\n",
       "      <td>United Kingdom</td>\n",
       "      <td>15.30</td>\n",
       "    </tr>\n",
       "    <tr>\n",
       "      <th>1</th>\n",
       "      <td>536365</td>\n",
       "      <td>71053</td>\n",
       "      <td>WHITE METAL LANTERN</td>\n",
       "      <td>6</td>\n",
       "      <td>2010-12-01 08:26:00</td>\n",
       "      <td>3.39</td>\n",
       "      <td>17850.0</td>\n",
       "      <td>United Kingdom</td>\n",
       "      <td>20.34</td>\n",
       "    </tr>\n",
       "    <tr>\n",
       "      <th>2</th>\n",
       "      <td>536365</td>\n",
       "      <td>84406B</td>\n",
       "      <td>CREAM CUPID HEARTS COAT HANGER</td>\n",
       "      <td>8</td>\n",
       "      <td>2010-12-01 08:26:00</td>\n",
       "      <td>2.75</td>\n",
       "      <td>17850.0</td>\n",
       "      <td>United Kingdom</td>\n",
       "      <td>22.00</td>\n",
       "    </tr>\n",
       "    <tr>\n",
       "      <th>3</th>\n",
       "      <td>536365</td>\n",
       "      <td>84029G</td>\n",
       "      <td>KNITTED UNION FLAG HOT WATER BOTTLE</td>\n",
       "      <td>6</td>\n",
       "      <td>2010-12-01 08:26:00</td>\n",
       "      <td>3.39</td>\n",
       "      <td>17850.0</td>\n",
       "      <td>United Kingdom</td>\n",
       "      <td>20.34</td>\n",
       "    </tr>\n",
       "    <tr>\n",
       "      <th>4</th>\n",
       "      <td>536365</td>\n",
       "      <td>84029E</td>\n",
       "      <td>RED WOOLLY HOTTIE WHITE HEART.</td>\n",
       "      <td>6</td>\n",
       "      <td>2010-12-01 08:26:00</td>\n",
       "      <td>3.39</td>\n",
       "      <td>17850.0</td>\n",
       "      <td>United Kingdom</td>\n",
       "      <td>20.34</td>\n",
       "    </tr>\n",
       "    <tr>\n",
       "      <th>...</th>\n",
       "      <td>...</td>\n",
       "      <td>...</td>\n",
       "      <td>...</td>\n",
       "      <td>...</td>\n",
       "      <td>...</td>\n",
       "      <td>...</td>\n",
       "      <td>...</td>\n",
       "      <td>...</td>\n",
       "      <td>...</td>\n",
       "    </tr>\n",
       "    <tr>\n",
       "      <th>4540</th>\n",
       "      <td>536790</td>\n",
       "      <td>22752</td>\n",
       "      <td>SET 7 BABUSHKA NESTING BOXES</td>\n",
       "      <td>4</td>\n",
       "      <td>2010-12-02 15:26:00</td>\n",
       "      <td>7.65</td>\n",
       "      <td>17850.0</td>\n",
       "      <td>United Kingdom</td>\n",
       "      <td>30.60</td>\n",
       "    </tr>\n",
       "    <tr>\n",
       "      <th>4541</th>\n",
       "      <td>536790</td>\n",
       "      <td>22803</td>\n",
       "      <td>IVORY EMBROIDERED QUILT</td>\n",
       "      <td>3</td>\n",
       "      <td>2010-12-02 15:26:00</td>\n",
       "      <td>35.75</td>\n",
       "      <td>17850.0</td>\n",
       "      <td>United Kingdom</td>\n",
       "      <td>107.25</td>\n",
       "    </tr>\n",
       "    <tr>\n",
       "      <th>4542</th>\n",
       "      <td>536790</td>\n",
       "      <td>21730</td>\n",
       "      <td>GLASS STAR FROSTED T-LIGHT HOLDER</td>\n",
       "      <td>12</td>\n",
       "      <td>2010-12-02 15:26:00</td>\n",
       "      <td>4.25</td>\n",
       "      <td>17850.0</td>\n",
       "      <td>United Kingdom</td>\n",
       "      <td>51.00</td>\n",
       "    </tr>\n",
       "    <tr>\n",
       "      <th>4543</th>\n",
       "      <td>536791</td>\n",
       "      <td>22632</td>\n",
       "      <td>HAND WARMER RED POLKA DOT</td>\n",
       "      <td>12</td>\n",
       "      <td>2010-12-02 15:27:00</td>\n",
       "      <td>1.85</td>\n",
       "      <td>17850.0</td>\n",
       "      <td>United Kingdom</td>\n",
       "      <td>22.20</td>\n",
       "    </tr>\n",
       "    <tr>\n",
       "      <th>4544</th>\n",
       "      <td>536791</td>\n",
       "      <td>22633</td>\n",
       "      <td>HAND WARMER UNION JACK</td>\n",
       "      <td>12</td>\n",
       "      <td>2010-12-02 15:27:00</td>\n",
       "      <td>1.85</td>\n",
       "      <td>17850.0</td>\n",
       "      <td>United Kingdom</td>\n",
       "      <td>22.20</td>\n",
       "    </tr>\n",
       "  </tbody>\n",
       "</table>\n",
       "<p>297 rows × 9 columns</p>\n",
       "</div>"
      ],
      "text/plain": [
       "     InvoiceNo StockCode                          Description  Quantity  \\\n",
       "0       536365    85123A   WHITE HANGING HEART T-LIGHT HOLDER         6   \n",
       "1       536365     71053                  WHITE METAL LANTERN         6   \n",
       "2       536365    84406B       CREAM CUPID HEARTS COAT HANGER         8   \n",
       "3       536365    84029G  KNITTED UNION FLAG HOT WATER BOTTLE         6   \n",
       "4       536365    84029E       RED WOOLLY HOTTIE WHITE HEART.         6   \n",
       "...        ...       ...                                  ...       ...   \n",
       "4540    536790     22752         SET 7 BABUSHKA NESTING BOXES         4   \n",
       "4541    536790     22803             IVORY EMBROIDERED QUILT          3   \n",
       "4542    536790     21730    GLASS STAR FROSTED T-LIGHT HOLDER        12   \n",
       "4543    536791     22632            HAND WARMER RED POLKA DOT        12   \n",
       "4544    536791     22633               HAND WARMER UNION JACK        12   \n",
       "\n",
       "             InvoiceDate  UnitPrice  CustomerID         Country   Sales  \n",
       "0    2010-12-01 08:26:00       2.55     17850.0  United Kingdom   15.30  \n",
       "1    2010-12-01 08:26:00       3.39     17850.0  United Kingdom   20.34  \n",
       "2    2010-12-01 08:26:00       2.75     17850.0  United Kingdom   22.00  \n",
       "3    2010-12-01 08:26:00       3.39     17850.0  United Kingdom   20.34  \n",
       "4    2010-12-01 08:26:00       3.39     17850.0  United Kingdom   20.34  \n",
       "...                  ...        ...         ...             ...     ...  \n",
       "4540 2010-12-02 15:26:00       7.65     17850.0  United Kingdom   30.60  \n",
       "4541 2010-12-02 15:26:00      35.75     17850.0  United Kingdom  107.25  \n",
       "4542 2010-12-02 15:26:00       4.25     17850.0  United Kingdom   51.00  \n",
       "4543 2010-12-02 15:27:00       1.85     17850.0  United Kingdom   22.20  \n",
       "4544 2010-12-02 15:27:00       1.85     17850.0  United Kingdom   22.20  \n",
       "\n",
       "[297 rows x 9 columns]"
      ]
     },
     "execution_count": 124,
     "metadata": {},
     "output_type": "execute_result"
    }
   ],
   "source": [
    "s"
   ]
  },
  {
   "cell_type": "code",
   "execution_count": 123,
   "id": "dense-relief",
   "metadata": {},
   "outputs": [
    {
     "name": "stderr",
     "output_type": "stream",
     "text": [
      "<ipython-input-123-6dd8465f3288>:1: SettingWithCopyWarning: \n",
      "A value is trying to be set on a copy of a slice from a DataFrame.\n",
      "Try using .loc[row_indexer,col_indexer] = value instead\n",
      "\n",
      "See the caveats in the documentation: https://pandas.pydata.org/pandas-docs/stable/user_guide/indexing.html#returning-a-view-versus-a-copy\n",
      "  s['Sales'] = s['Quantity'] * s['UnitPrice']\n"
     ]
    }
   ],
   "source": [
    "s['Sales'] = s['Quantity'] * s['UnitPrice']"
   ]
  }
 ],
 "metadata": {
  "kernelspec": {
   "display_name": "Python 3",
   "language": "python",
   "name": "python3"
  },
  "language_info": {
   "codemirror_mode": {
    "name": "ipython",
    "version": 3
   },
   "file_extension": ".py",
   "mimetype": "text/x-python",
   "name": "python",
   "nbconvert_exporter": "python",
   "pygments_lexer": "ipython3",
   "version": "3.8.8"
  }
 },
 "nbformat": 4,
 "nbformat_minor": 5
}
